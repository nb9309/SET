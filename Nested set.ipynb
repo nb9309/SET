{
 "cells": [
  {
   "cell_type": "code",
   "execution_count": 1,
   "metadata": {},
   "outputs": [
    {
     "ename": "TypeError",
     "evalue": "unhashable type: 'set'",
     "output_type": "error",
     "traceback": [
      "\u001b[1;31m---------------------------------------------------------------------------\u001b[0m",
      "\u001b[1;31mTypeError\u001b[0m                                 Traceback (most recent call last)",
      "Cell \u001b[1;32mIn[1], line 1\u001b[0m\n\u001b[1;32m----> 1\u001b[0m s \u001b[38;5;241m=\u001b[39m {\u001b[38;5;241m2\u001b[39m,\u001b[38;5;241m5\u001b[39m,\u001b[38;5;241m9\u001b[39m,{\u001b[38;5;241m34\u001b[39m,\u001b[38;5;241m56\u001b[39m,\u001b[38;5;241m3\u001b[39m}}\n\u001b[0;32m      2\u001b[0m \u001b[38;5;28mprint\u001b[39m(s,\u001b[38;5;28mtype\u001b[39m(s))\n",
      "\u001b[1;31mTypeError\u001b[0m: unhashable type: 'set'"
     ]
    }
   ],
   "source": [
    "s = {2,5,9,{34,56,3}}\n",
    "print(s,type(s))"
   ]
  },
  {
   "cell_type": "code",
   "execution_count": 2,
   "metadata": {},
   "outputs": [
    {
     "ename": "TypeError",
     "evalue": "unhashable type: 'list'",
     "output_type": "error",
     "traceback": [
      "\u001b[1;31m---------------------------------------------------------------------------\u001b[0m",
      "\u001b[1;31mTypeError\u001b[0m                                 Traceback (most recent call last)",
      "Cell \u001b[1;32mIn[2], line 1\u001b[0m\n\u001b[1;32m----> 1\u001b[0m s1 \u001b[38;5;241m=\u001b[39m {\u001b[38;5;241m2\u001b[39m,\u001b[38;5;241m6\u001b[39m,\u001b[38;5;241m3\u001b[39m,[\u001b[38;5;241m67\u001b[39m,\u001b[38;5;241m34\u001b[39m,\u001b[38;5;241m1\u001b[39m],\u001b[38;5;124m'\u001b[39m\u001b[38;5;124mhii\u001b[39m\u001b[38;5;124m'\u001b[39m}\n\u001b[0;32m      2\u001b[0m \u001b[38;5;28mprint\u001b[39m(s1,\u001b[38;5;28mtype\u001b[39m(s1))\n",
      "\u001b[1;31mTypeError\u001b[0m: unhashable type: 'list'"
     ]
    }
   ],
   "source": [
    "s1 = {2,6,3,[67,34,1],'hii'}\n",
    "print(s1,type(s1))"
   ]
  },
  {
   "cell_type": "code",
   "execution_count": 5,
   "metadata": {},
   "outputs": [
    {
     "name": "stdout",
     "output_type": "stream",
     "text": [
      "{2, 3, 6, 'hii', (67, 34, 1)} <class 'set'>\n"
     ]
    }
   ],
   "source": [
    "s2 = {2,6,3,(67,34,1),'hii'}\n",
    "print(s2,type(s2))"
   ]
  },
  {
   "cell_type": "code",
   "execution_count": 7,
   "metadata": {},
   "outputs": [
    {
     "name": "stdout",
     "output_type": "stream",
     "text": [
      "[2, 4, 6, {2, 'fyi', 4, 5, 7}, 'jee'] <class 'list'>\n",
      "<class 'set'>\n"
     ]
    }
   ],
   "source": [
    "l1 = [2,4,6,{2,4,5,7,'fyi'},'jee']\n",
    "print(l1,type(l1))\n",
    "print(type(l1[3]))"
   ]
  },
  {
   "cell_type": "code",
   "execution_count": 12,
   "metadata": {},
   "outputs": [
    {
     "name": "stdout",
     "output_type": "stream",
     "text": [
      "[2, 4, 6, {2, 'fyi', 4, 7, 'u'}, 'jee']\n",
      "[2, 4, 6, set(), 'jee']\n"
     ]
    }
   ],
   "source": [
    "l1[-2].add('u')\n",
    "print(l1)\n",
    "l1[-2].clear()\n",
    "print(l1)"
   ]
  },
  {
   "cell_type": "code",
   "execution_count": 13,
   "metadata": {},
   "outputs": [
    {
     "name": "stdout",
     "output_type": "stream",
     "text": [
      "(2, 4, 6, {(5+6j), 2, 'fyi', 4, 5, 7}, 'jee') <class 'tuple'> <class 'set'>\n"
     ]
    }
   ],
   "source": [
    "t1 = (2,4,6,{2,4,5,7,'fyi',5+6j},'jee')\n",
    "print(t1,type(t1),type(t1[-2]))"
   ]
  },
  {
   "cell_type": "code",
   "execution_count": 14,
   "metadata": {},
   "outputs": [
    {
     "name": "stdout",
     "output_type": "stream",
     "text": [
      "(2, 4, 6, {(5+6j), 2, 'fyi', 4, 7}, 'jee')\n",
      "(2, 4, 6, {(5+6j), 2, 'fyi', 4, 7, 'you'}, 'jee')\n"
     ]
    }
   ],
   "source": [
    "t1[-2].remove(5)\n",
    "print(t1)\n",
    "t1[-2].add('you')\n",
    "print(t1)"
   ]
  },
  {
   "cell_type": "code",
   "execution_count": 15,
   "metadata": {},
   "outputs": [
    {
     "ename": "TypeError",
     "evalue": "'tuple' object doesn't support item deletion",
     "output_type": "error",
     "traceback": [
      "\u001b[1;31m---------------------------------------------------------------------------\u001b[0m",
      "\u001b[1;31mTypeError\u001b[0m                                 Traceback (most recent call last)",
      "Cell \u001b[1;32mIn[15], line 1\u001b[0m\n\u001b[1;32m----> 1\u001b[0m \u001b[38;5;28;01mdel\u001b[39;00m t1[\u001b[38;5;241m-\u001b[39m\u001b[38;5;241m2\u001b[39m]\n\u001b[0;32m      2\u001b[0m \u001b[38;5;28mprint\u001b[39m(t1)\n",
      "\u001b[1;31mTypeError\u001b[0m: 'tuple' object doesn't support item deletion"
     ]
    }
   ],
   "source": [
    "del t1[-2]\n",
    "print(t1)"
   ]
  },
  {
   "cell_type": "code",
   "execution_count": 16,
   "metadata": {},
   "outputs": [
    {
     "name": "stdout",
     "output_type": "stream",
     "text": [
      "(2, 4, 6, set(), 'jee')\n"
     ]
    }
   ],
   "source": [
    "t1[-2].clear()\n",
    "print(t1)"
   ]
  }
 ],
 "metadata": {
  "kernelspec": {
   "display_name": "base",
   "language": "python",
   "name": "python3"
  },
  "language_info": {
   "codemirror_mode": {
    "name": "ipython",
    "version": 3
   },
   "file_extension": ".py",
   "mimetype": "text/x-python",
   "name": "python",
   "nbconvert_exporter": "python",
   "pygments_lexer": "ipython3",
   "version": "3.9.19"
  }
 },
 "nbformat": 4,
 "nbformat_minor": 2
}
